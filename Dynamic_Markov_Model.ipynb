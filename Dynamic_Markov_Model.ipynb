{
  "nbformat": 4,
  "nbformat_minor": 0,
  "metadata": {
    "colab": {
      "name": "Dynamic Markov Model.ipynb",
      "provenance": [],
      "collapsed_sections": [],
      "authorship_tag": "ABX9TyM79gAWSPyxNBRgN6/gEC9a",
      "include_colab_link": true
    },
    "kernelspec": {
      "name": "python3",
      "display_name": "Python 3"
    },
    "language_info": {
      "name": "python"
    }
  },
  "cells": [
    {
      "cell_type": "markdown",
      "metadata": {
        "id": "view-in-github",
        "colab_type": "text"
      },
      "source": [
        "<a href=\"https://colab.research.google.com/github/avgCoderr/Markov/blob/main/Dynamic_Markov_Model.ipynb\" target=\"_parent\"><img src=\"https://colab.research.google.com/assets/colab-badge.svg\" alt=\"Open In Colab\"/></a>"
      ]
    },
    {
      "cell_type": "code",
      "metadata": {
        "id": "KC4IUce6hc8J"
      },
      "source": [
        "import numpy as np\n",
        "import pandas as pd\n",
        "import re    \n",
        "\n",
        "\n",
        "data = pd.read_csv('Book2.csv') + pd.read_csv('Book1.csv')\n",
        "\n",
        "str_data = str(data)\n"
      ],
      "execution_count": 59,
      "outputs": []
    },
    {
      "cell_type": "code",
      "metadata": {
        "id": "iY-UaYuYi5HQ"
      },
      "source": [
        "from collections import defaultdict   \n",
        "\n",
        "def markov_chain(text):\n",
        "    \n",
        "    words = text.split(' ')   \n",
        "\n",
        "    text_dict = defaultdict(list)\n",
        "    \n",
        "    for current_word, next_word in zip(words[0:-1], words[1:]):    \n",
        "        text_dict[current_word].append(next_word)  \n",
        "        \n",
        "    text_dict = dict(text_dict)   \n",
        "    return text_dict"
      ],
      "execution_count": 60,
      "outputs": []
    },
    {
      "cell_type": "code",
      "metadata": {
        "colab": {
          "base_uri": "https://localhost:8080/"
        },
        "id": "h-n7BfkJkuSR",
        "outputId": "28ce00bd-cb49-4b3f-9ee8-2fc6e31bd978"
      },
      "source": [
        "import itertools \n",
        "\n",
        "data_dict = markov_chain(str_data) \n",
        "print(dict(itertools.islice(data_dict.items(), 5)))\n"
      ],
      "execution_count": 61,
      "outputs": [
        {
          "output_type": "stream",
          "text": [
            "{'Empty': ['DataFrame\\nColumns:'], 'DataFrame\\nColumns:': ['[aba'], '[aba': ['decides'], 'decides': ['against', 'against', 'to', 'against', 'against', 'against', 'against', 'against', 'onset', 'on', 'against', 'not', 'to'], 'against': ['community', 'losing', 'anti', 'buoyant', 'a', 'class', 'penrith', 'fishing', 'us', 'europe', 'lovenkrands', 'red', 'prestige', 'namibia', 'humanity', 'india', 'iraq', 'iraq', 'moo', 'nuclear', 'radiation', 'nuclear', 'murder', 'accc', 'united', 'ruiz', 'india', 'sri', 'chelsea', 'unacceptable', 'rabindra', 'atalanta', 'war', 'development', 'qld', 'public', 'armenian', 'state', 'clark', 'couples', 'iraq', 'war', 'volunteers', 'war', 'north', 'atsic', 'iraq', 'holders', 'maradona', 'management', 'virgin', 'india', 'nsw', 'resolution', 'same', 'us', 'cross', 'crows', 'rennes', 'war', 'india', 'same', 'residency', 'war', 'iraq', 'hospital', 'foster', 'fairfax', 'war', 'bypass', 'anti', 'iraq', 'iraq', 'iraq', 'collingwood', 'friends', 'saddam', 'possible', 'looming', 'war', 'deportivo', 'blues', 'disease', 'violence', 'war', 'kenya', 'us', 'war', 'war', 'child', 'war', 'hawks', 'war', 'war', 'war', 'war', 'overconfidence', 'iraq', 'the', 'govt', 'spain', 'three', 'odonnell', 'drought', 'rivkin', 'muslims', 'geneva', 'iraq', 'drug', 'bombers', 'bombers', 'iraq', 'blinding', 'fear', 'war', 'fuel', 'farmers', 'iraq', '3', 'land', 'ansar', 'ny', 'saddam', 'sars', 'israel', 'murder', 'sars', 'sars', 'manufacturer', 'child', 'allies', 'war', 'humanity', 'indigenous', 'richmond', 'boavista', 'overturning', 'packer', 'geelong', 'crows', 'anti', 'death', 'shortcut', 'illegal', 'west', 'brothels', 'us', 'png', 'syria', 'heavy', 'campbell', 'sodomy', 'us', 'wa', 'ferrero', 'racism', 'any', 'prosecution', 'south', 'creans', 'forced', 'seal', 'store', 'ban', 'vice', 'workers', 'old', 'hapless', 'magpies', 'university', 'animal', 'mooney', 'act', 'geelong', 'carr', 'qeh', 'perry', 'us', 'barrios', 'nepals', 'sentence', 'hanson', 'insurance', 'arnotts', 'attending', 'sars', 'gay', 'sex', 'women', 'powerline', 'digging', 'iraq', 'woomera', 'domestic', 'planting', 'q', 'mp', 'nuclear', 'sarwan', 'compo', 'changes', 'board', 'gm', 'super', 'economic', 'british', 'us', 'anzelark', 'us', 'malpractice', 'virgin', 'terrorist', 'sri', 'amrozi', 'possible', 'terrorism', 'proteas', 'fingleton', 'extended', 'decision', 'roma', 'the', 'rising', 'raising', 'cwealth', 'senior', 'g', 'north', 'wynnum', 'poverty', 'rebels', 'irc', 'timber', 'amrozi', 'clearing', 'green', 'avellino', 'travel', 'iranians', 'promotion', 'india', 'convictions', 'cairns', 'deputy', 'old', 'sars', 'mass', 'cross', 'muslim', 'sugiyama', 'stockholm', 'mim', 'mim', 'aussies', 'woman', 'aceh', 'former', 'dead', 'sas', 'burmese', 'roadmap', 'wales', 'fine', 'scots', 'england', 'ipswich', 'accepting', 'italy', 'russia', 'burma', 'harrington', 'murder', 'all', 'muslim', 'delay', 'acf', 'wales', 'dolphins', 'rape', 'iranian', 'mobile', 'australia', 'us', 'diamond', 'terrorism', 'bacon', 'us', 'bashir', 'burma', 'merger', 'child', 'childrens', 'samoa', 'burma', 'all', 'iran', 'polish', 'mandatory', 'jetty', 'nathan', 'negligence', 'staff', 'sydney', 'saddam', 'education', 'killing', 'telstra', 'austoft', 'pakistanis', 'darters', 'pumas', 'sri', 'huge', 'same', 'bomb', 'taylor', 'sister', 'embryo', 'terrorism', 'nuclear', 'domestic', 'proteas', 'holloway', 'crows', 'separating', 'cfmeu', 'bangladesh', 'arafat', 'troops', 'tas', 'bangers', 'fossil', 'proposed', 'muslims', 'chopper', 'sterilisation', 'all', 'gay', 'brazil', 'hollywood', 'colombia', 'india', 'sow', 'india', 'england', 'india', 'racist', 'saints', 'bangladesh', 'policeman', 'act', 'smoking', 'extortion', 'bulldogs', 'blair', 'panthers', 'muslims', 'england', 'tafe', 'further', 'sunday', 'anthony', 'class', 'council', 'arroyo', 'new', 'govt', 'muslim', 'detention', 'time', 'violence', 'gp', 'jones', 'school', 'vote', 'tax', 'pay', 'pulling', 'insulin', 'atsic', 'demons', 'natasha', 'amrozi', 'high', 'name', 'lions', 'mitchell', 'greece', 'ad', 'water', 'kookaburras', 'israel', 'thai', 'quarry', 'farmers', 'expected', 'pine', 'tassie', 'puerto', 'plastic', 's', 'pakistan', 'brisbane', 'the', 'overturning', 'pakistan', 'merger', 'contribution', 'pakistan', 'england', 'fraud', 'cats', 'road', 'dismissed', 'iceland', 'telstra', 'telstra', 'archbishop', '11', 'clock', 'e', 'bush', 'tigers', 'scotland', 'government', 'giving', 'spirit', 'complacency', 'satirist', '11', 'italy', 'govt', 'students', 'former', 'sa', 'england', 'dogs', 'former', 'canada', 'blazes', 'tnt', 'computer', 'hungary', 'court', 'jamaica', 'inzamam', 'bashir', 'bashir', 'workplace', 'atsic', 'abalone', 'nth', 'aids', 'tinkerbell', 'byron', 'us', 'temporary', 'daily', 'port', 'lake', 'libya', 'pawa', 'banishing', 'detective', 'snails', 'wto', 'new', 'knights', 'big', 'port', 'sydney', 'labor', 'death', 'police', 'minister', 'hometown', '116000', 'depleted', 'fatigue', 'using', 'disease', 'place', 'rescue', 'axing', 'former', 'sentence', 'live', 'new', 'us', 'humanity', 'sept', 'accc', 'poverty', 'auctioning', 'insurance', 'victoria', 'medical', 'thousands', 'iraq', 'former', 'nuclear', 'melanoma', 'poker', 'pokies', 'building', 'cup', 'eba', 'forest', 'valance', 'israel', 'sexual', 'slide', 'salinity', 'tough', 'childhood', 'privatisation', 'all', 'clerics', 'sept', 'child', 'turning', 'enterprise', 'uruguay', 'condoms', 'deaf', 'asthma', 'france', 'college', 'japan', 'space', 'ge', 'hall', 'hall', 'drought', 'police', 'perth', 'nz', 'romania', 'pfizers', 'us', 'police', 'boks', 'england', 'new', 'western', 'boks', 'planned', 'india', 'higher', 'indigenous', 'national', 'pakistan', 'expelling', 'pakistan', 'namibia', 'south', 'terror', 'sentence', 'stock', 'treatment', 'determined', 'voluntary', 'malaria', 'planned', 'supermarket', 'minister', 'alcoa', 'big', 'bush', 'tonga', 'iraq', 'council', 'combined', 'continued', 'bangladesh', 'namibia', 'travel', 'nuclear', 'sugiyama', 'us', 'sbs', 'telstra', 'women', 'local', 'wales', 'england', 'bulls', 'wales', 'fiji', 'union', 'former', 'extended', 'welfare', 'bank', 'truce', 'french', 'rail', 'vitamin', 'france', 'bulk', 'released', 'vandals', 'alleged', 'justice', 'service', 'tigers', 'bhp', 'hanson', 'razorbacks', 'wales', 'pokie', 'west', 'west', 'australia', 'heroin', 'swim', 'rail', 'wallabies', 'zimbabwe', 'unlawful', 'us', 'men', 'road', 'qld', 'saudi', 'malaria', 'independence', 'us', 'fed', 'reform', 'voting', 'coldplay', 'export', 'leahy', 'aussies', 'taiwan', 'schoolies', 'terror', 'gay', 'teen', 'woolworths', 'sa', 'uni', 'bushrangers', 'bushrangers', 'bulls', 'bushfires', 'readmitting', 'razorbacks', 'aids', 'violence', 'qld', '5', 'nt', 'livestock', 'west', 'win', 'complacency', 'waste', 'aids', 'farmers', 'grapevine', 'drugs', 'grape', 'further', 'struggling', 'argentina', 'muslims', 'mines', 'moussaoui', 'real', 'sheep', 'air', 'janitor', 'sheep', 'university', 'gm', 'pension', 'geneva', 'tigers', 'tax', 'west', 'tas', 'barrier', 'sydney', 'waste', 'warriors', 'illegal', 'latham', 'swimming', '36ers', 'sex', 'india', 'bayern', 'fed', 'west', 'island', 'west', 'saddam', 'melbourne', 'mayoral', 'toxic', 'preselection', 'india', 'workload', 'india', 'child', 'pakistan', 'settlement', 'india', 'guantanamo', 'jail', 'rape', 'militarys', 'chinese', 'new', 'bushfire', 'king', 'budget', 'west', 'radio', 'rangers', 'sars', 'us', 'boomers', 'parmalat', 'pakistan', 'militants', 'england', 'french', 'villa', 'cancer', 'sydney', 'slavery', 'israel', 'bulls', 'computer', 'black', 'space', 'india', 'military', 'predatory', 'breakers', 'bhp', 'polio', 'aids', 'pakistan', 'pakistan', 'pakistan', 'paris', 'waste', 'suicide', 'french', 'islam', 'killers', 'suspension', 'outpost', 's', 'us', 'council', 'bird', 'unilateral', 'super', 'beattie', 'medicare', 'juventus', 'police', 'bullets', 'brothel', 'sydney', 'bird', 'pms', 'pms', 'emotional', 'brumbies', 'zimbabwe', 'romania', 'heroin', 'newspoll', 'high', 'man', 'leeds', 'nsw', 'de', 'convicted', 'swimming', 'german', 'police', 'native', 'super', 'blazing', 'super', 'indonesian', 'speeding', 'austria', 'experienced', 'election', 'nine', 'conviction', 'dump', 'trade', 'jail', 'hasty', 'bangladesh', 'panthers', 'swans', 'school', 'govt', 'nz', 'cables', 'valencia', 'weak', 'bush', 'giants', 'amnesty', 'ruling', 'chiefs', 'gm', 'otways', 'blocking', 'banana', 'kalgoorlie', 'us', 'computer', 'child', 'whistle', 'gold', 'child', 'pilot', 'banana', 'sanders', 'doctor', 'hecs', 'sth', 'tugun', 'nz', 'chinese', 'bulls', 'love', 'forced', 'mp', 'volkers', 'rape', 'lack', 'complacency', 'uncompetitive', 'evacuation', 'athletics', 'bushrangers', 'venezuelan', 'public', 'syria', 'power', 'grand', 'its', 'guantanamo', 'sri', 'sth', 'rail', 'bullets', 'india', 'government', 'australia', 'alleged', 'forest', 'india', 'phone', 'violence', 'scotland', 'perth', 'playing', 'aust', 'akhtar', 'impeachment', 'pakistan', 'death', 'suspected', 'proposed', 'iraq', 'him', 'lions', 'lions', 'troop', 'sledging', 'lantana', 'sevilla', 'terrorism', 'hamas', 'sociedad', 'israel', 'troop', 'overcharging', 'councillors', 'wild', 'violence', 'us', 'mining', 'poor', 'hospital', 'sussex', 'court', 'abcs', 'crime', 'ex', 'lions', 'father', 'reforms', 'rushed', 'election', 'reunification', 'welfare', 'manly', 'anderson', 'gm', 'government', 'criminalising', 'aged', 'fruit', 'complacency', 'imports', 'masters', 'getting', 'using', 'swimming', 'warriors', 'china', 'vegetation', 'israeli', 'india', 'intelligence', 'guantanamo', 'west', 'logging', 'cleric', 'leskie', 'us', 'hawks', 'australian', 'fta', 'drunkenness', 'gaza', 'pork', 'china', 'son', 'faking', 'sacked', 'live', 'millstone', 'china', 'atsics', 'england', 'arafat', 'rail', 'us', 'hostage', 'tonnes', 'cancellation', 'dogs', 'new', 'film', '911', 'former', 'english', 'souths', 'otago', 'crows', 'changes', 'davydenko', 'storm', 'qantas', 'reforms', 'zimbabwe', 'terrorism', 'train', 'mistreatment', 'hume', 'crocodile', 'sadr', 'old', 'group', 'all', 'axing', 'glenelg', 'atsic', 'royal', 'blues', 'new', 'hecs', 'atapattu', 'hollands', 'bombers', 'bangladesh', 'sleeping', 'poker', 'sadr', 'carlton', 'slow', 'england', 'obesity', 'lowly', 'israeli', 'man', 'devils', 'council', 'cubbie', 'poor', 'aussie', 'leicester', 'immediate', 'hawks', 'england', 'government', 'pig', 'springboks', 'tighter', 'change', 'splitting', 'formal', 'port', 'scotland', 'hawks', 'germany', 'roos', 'nz', 'aussies', 'france', 'waste', 'tahiti', 'terrorism', 'plane', 'mineral', 'nz', 'time', 'gaudio', 'scotland', 'cat', 'journalists', 'censure', 'nsw', 'bombers', 'plucky', 'crows', 'hawks', 'gay', 'premiers', 'souths', 'saudi', 'nsw', 'vic', 'election', 'sacking', 'murder', 'troubled', 'greece', 'swiss', 'fta', 'england', 'garrett', 'lions', 'police', 'hospital', 'late', 'him', 'cagey', 'energy', 'grimes', 'sydney', 'child', 'sex', 'bec', 'yukos', 'tax', 'good', 'totti', 'winona', 'swiss', 'sharon', 'time', 'france', 'introduced', 'kiwis', 'no', 'new', 'us', 'coroner', 'childers', 'flag', 'early', 'further', 'us', 'drug', 'king', 'microsoft', 'dean', 'us', 'the', 'soldiers']}\n"
          ],
          "name": "stdout"
        }
      ]
    },
    {
      "cell_type": "code",
      "metadata": {
        "id": "YA1HRPPOvZOk"
      },
      "source": [
        "import random\n",
        "\n",
        "def generate_sentence(data, length):\n",
        "  current_word = random.choice(list(data.keys()))   \n",
        "\n",
        "  #goal: to make it dynamic, in case the word is out of dictionary\n",
        "\n",
        "  sentence = current_word.capitalize()   \n",
        "\n",
        "  for i in range(length-1):\n",
        "    predicted_word = random.choice(data[current_word])    \n",
        "    current_word = predicted_word\n",
        "\n",
        "    if(predicted_word == 'i'):\n",
        "      sentence += ' ' + predicted_word.capitalize()\n",
        "    else:  \n",
        "      sentence += ' ' + predicted_word\n",
        "  \n",
        "  sentence += '.'    \n",
        "  return (sentence)"
      ],
      "execution_count": 62,
      "outputs": []
    },
    {
      "cell_type": "code",
      "metadata": {
        "colab": {
          "base_uri": "https://localhost:8080/"
        },
        "id": "8Wn3W1NYyP7A",
        "outputId": "74b4f33a-0a94-4fd4-b818-298a6cf293b2"
      },
      "source": [
        "for i in range(5):\n",
        "  print(generate_sentence(data_dict, random.randint(5,9)))"
      ],
      "execution_count": 65,
      "outputs": [
        {
          "output_type": "stream",
          "text": [
            "Dsd investigated in paris home.\n",
            "Lasers beam birds decreasing stuffed dolly dunn.\n",
            "Shell thailand deal goes for video store.\n",
            "Relics reveal christmas and al jazeera office scare.\n",
            "Collective central qld boy in italy.\n"
          ],
          "name": "stdout"
        }
      ]
    },
    {
      "cell_type": "code",
      "metadata": {
        "colab": {
          "base_uri": "https://localhost:8080/"
        },
        "id": "2grhyuaEhbrO",
        "outputId": "603611a8-3681-4547-bd82-20157adda2b0"
      },
      "source": [
        "!pip install weasyprint\n",
        "\n",
        "import markdown\n",
        "from weasyprint import HTML, CSS\n",
        "from weasyprint.fonts import FontConfiguration"
      ],
      "execution_count": 28,
      "outputs": [
        {
          "output_type": "stream",
          "text": [
            "Requirement already satisfied: weasyprint in /usr/local/lib/python3.7/dist-packages (52.5)\n",
            "Requirement already satisfied: Pillow>=4.0.0 in /usr/local/lib/python3.7/dist-packages (from weasyprint) (7.1.2)\n",
            "Requirement already satisfied: Pyphen>=0.9.1 in /usr/local/lib/python3.7/dist-packages (from weasyprint) (0.10.0)\n",
            "Requirement already satisfied: cffi>=0.6 in /usr/local/lib/python3.7/dist-packages (from weasyprint) (1.14.5)\n",
            "Requirement already satisfied: cssselect2>=0.1 in /usr/local/lib/python3.7/dist-packages (from weasyprint) (0.4.1)\n",
            "Requirement already satisfied: setuptools>=39.2.0 in /usr/local/lib/python3.7/dist-packages (from weasyprint) (56.1.0)\n",
            "Requirement already satisfied: cairocffi>=0.9.0 in /usr/local/lib/python3.7/dist-packages (from weasyprint) (1.2.0)\n",
            "Requirement already satisfied: CairoSVG>=2.4.0 in /usr/local/lib/python3.7/dist-packages (from weasyprint) (2.5.2)\n",
            "Requirement already satisfied: html5lib>=0.999999999 in /usr/local/lib/python3.7/dist-packages (from weasyprint) (1.0.1)\n",
            "Requirement already satisfied: tinycss2>=1.0.0 in /usr/local/lib/python3.7/dist-packages (from weasyprint) (1.1.0)\n",
            "Requirement already satisfied: pycparser in /usr/local/lib/python3.7/dist-packages (from cffi>=0.6->weasyprint) (2.20)\n",
            "Requirement already satisfied: webencodings in /usr/local/lib/python3.7/dist-packages (from cssselect2>=0.1->weasyprint) (0.5.1)\n",
            "Requirement already satisfied: defusedxml in /usr/local/lib/python3.7/dist-packages (from CairoSVG>=2.4.0->weasyprint) (0.7.1)\n",
            "Requirement already satisfied: six>=1.9 in /usr/local/lib/python3.7/dist-packages (from html5lib>=0.999999999->weasyprint) (1.15.0)\n"
          ],
          "name": "stdout"
        }
      ]
    },
    {
      "cell_type": "code",
      "metadata": {
        "id": "eMjm_jN5D6xk"
      },
      "source": [
        ""
      ],
      "execution_count": 28,
      "outputs": []
    }
  ]
}