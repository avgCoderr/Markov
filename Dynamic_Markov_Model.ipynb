{
  "nbformat": 4,
  "nbformat_minor": 0,
  "metadata": {
    "colab": {
      "name": "Dynamic Markov Model.ipynb",
      "provenance": [],
      "collapsed_sections": [],
      "authorship_tag": "ABX9TyMgSXNz6ecbS8g5ypOibXdr",
      "include_colab_link": true
    },
    "kernelspec": {
      "name": "python3",
      "display_name": "Python 3"
    },
    "language_info": {
      "name": "python"
    }
  },
  "cells": [
    {
      "cell_type": "markdown",
      "metadata": {
        "id": "view-in-github",
        "colab_type": "text"
      },
      "source": [
        "<a href=\"https://colab.research.google.com/github/avgCoderr/Markov/blob/main/Dynamic_Markov_Model.ipynb\" target=\"_parent\"><img src=\"https://colab.research.google.com/assets/colab-badge.svg\" alt=\"Open In Colab\"/></a>"
      ]
    },
    {
      "cell_type": "code",
      "metadata": {
        "id": "KC4IUce6hc8J"
      },
      "source": [
        "import numpy as np\n",
        "import pandas as pd\n",
        "import re    \n",
        "\n",
        "\n",
        "data = pd.read_csv('Book1.csv')   \n",
        "\n",
        "str_data = str(data)   \n",
        "str_data = str_data.lower()    \n",
        "str_data = re.sub(r'[^\\w\\s]', '', str_data)    \n"
      ],
      "execution_count": 8,
      "outputs": []
    },
    {
      "cell_type": "code",
      "metadata": {
        "id": "iY-UaYuYi5HQ"
      },
      "source": [
        "from collections import defaultdict   \n",
        "\n",
        "def markov_chain(text):\n",
        "    \n",
        "    words = text.split(' ')   \n",
        "\n",
        "    text_dict = defaultdict(list)\n",
        "    \n",
        "    for current_word, next_word in zip(words[0:-1], words[1:]):    \n",
        "        text_dict[current_word].append(next_word)  \n",
        "        \n",
        "    text_dict = dict(text_dict)   \n",
        "    return text_dict"
      ],
      "execution_count": 3,
      "outputs": []
    },
    {
      "cell_type": "code",
      "metadata": {
        "colab": {
          "base_uri": "https://localhost:8080/"
        },
        "id": "h-n7BfkJkuSR",
        "outputId": "c4f36b54-b942-4077-f116-c0886de7a04d"
      },
      "source": [
        "import itertools \n",
        "\n",
        "data_dict = markov_chain(str_data) \n",
        "print(dict(itertools.islice(data_dict.items(), 5)))\n"
      ],
      "execution_count": 16,
      "outputs": [
        {
          "output_type": "stream",
          "text": [
            "{'empty': ['dataframe\\ncolumns'], 'dataframe\\ncolumns': ['while'], 'while': ['the', 'holding', 'others', 'doing'], 'the': ['pandemic', 'coronavirus', 'journal', 'potential', 'company', 'news', 'us', 'office', 'united', 'feb', 'note', 'us', 'reuters', 'article', 'emails', 'us', 'us', 'competition', 'same', 'past', 'ustr', 'boys', 'child', 'file', 'overtons', 'border', 'streets', 'experience', 'challenges', 'overtons', 'idea', 'adoption', 'girl', 'coastlands', 'nondenominational', 'south', 'bible', 'same', 'overtons', 'new', 'girls', 'overtons', 'churchs', 'trash', 'classroom', 'couple', 'events', 'authorities', 'true', 'hope', 'popular', 'memory', 'rebellion', 'chaos', 'corporate', 'images', 'publics', 'dnc', 'uprising', 'rawness', 'ground', 'smoke', 'least', 'riots', 'speeches', 'backlash', 'whole', 'surface', 'us', 'street', 'instant', 'dream', 'country', 'first', 'old', 'stubborn', 'violence', 'police', 'robust', 'street', 'radical', 'minnesota', 'rioters', 'following', 'rumors', 'song', 'state', 'event', 'whole', 'lordly', 'market', 'town', 'work', 'surface', 'dreaded', 'conspiracy', 'banner', 'national', 'murder', 'unruliness', 'rebellion', 'fruit', 'task', 'door', 'backdrop', 'black', 'country', 'north', 'states', 'baptist', 'urban', 'late', 'law', 'constructive', 'decade', 'amount', 'vast', 'white', 'first', 'new', 'driver', 'next', 'most', 'south', 'emergency', 'attack', 'trapped', 'marchers', 'crowd', 'police', 'screaming', 'tarmac', 'seventeen', 'chaos', 'hush', 'crowded', 'gate', 'winters', 'snow', 'lesson', 'korean', 'beach', 'waters', 'waves', 'ocean', 'boat', 'approach', 'little', 'society', 'stage', 'one', 'other', 'time', 'values', 'kind', 'most', 'enrolment', 'same', 'country', 'growth', 'field', 'glassceiling', 'most', 'world', 'past', 'coming', 'british', 'course', 'enemy', 'british', 'first', 'country', 'country', 'government', 'government', 'freedom', 'government', 'government', 'ideal', 'latter', 'country', 'new', 'administration', 'experience', 'good', 'country\\nindex'], 'pandemic': ['has']}\n"
          ],
          "name": "stdout"
        }
      ]
    },
    {
      "cell_type": "code",
      "metadata": {
        "id": "YA1HRPPOvZOk"
      },
      "source": [
        "import random\n",
        "\n",
        "def generate_sentence(data, length):\n",
        "  current_word = random.choice(list(data.keys()))   \n",
        "\n",
        "  #goal: to make it dynamic, in case the word is out of dictionary\n",
        "\n",
        "  sentence = current_word.capitalize()   \n",
        "\n",
        "  for i in range(length-1):\n",
        "    predicted_word = random.choice(data[current_word])    \n",
        "    current_word = predicted_word\n",
        "\n",
        "    if(predicted_word == 'i'):\n",
        "      sentence += ' ' + predicted_word.capitalize()\n",
        "    else:  \n",
        "      sentence += ' ' + predicted_word\n",
        "  \n",
        "  sentence += '.'    \n",
        "  return (sentence)"
      ],
      "execution_count": 17,
      "outputs": []
    },
    {
      "cell_type": "code",
      "metadata": {
        "colab": {
          "base_uri": "https://localhost:8080/"
        },
        "id": "8Wn3W1NYyP7A",
        "outputId": "247a7fe6-09b7-457f-c533-9650d56692e4"
      },
      "source": [
        "for i in range(5):\n",
        "  print(generate_sentence(data_dict, 10))"
      ],
      "execution_count": 21,
      "outputs": [
        {
          "output_type": "stream",
          "text": [
            "Introspect what kind of state in the country it is.\n",
            "Lake street the emergency curfew fell over the new boy.\n",
            "Change policy he said that there were marches not long.\n",
            "Two countries but hed been thus considerably weakened our brother.\n",
            "Gender empowerment at the waters edge afraid of american criminal.\n"
          ],
          "name": "stdout"
        }
      ]
    },
    {
      "cell_type": "code",
      "metadata": {
        "colab": {
          "base_uri": "https://localhost:8080/"
        },
        "id": "2grhyuaEhbrO",
        "outputId": "e60693be-e79b-4fe7-b532-39bdbbfb21d9"
      },
      "source": [
        "!pip install weasyprint\n",
        "\n",
        "import markdown\n",
        "from weasyprint import HTML, CSS\n",
        "from weasyprint.fonts import FontConfiguration"
      ],
      "execution_count": null,
      "outputs": [
        {
          "output_type": "stream",
          "text": [
            "Requirement already satisfied: weasyprint in /usr/local/lib/python3.7/dist-packages (52.5)\n",
            "Requirement already satisfied: cffi>=0.6 in /usr/local/lib/python3.7/dist-packages (from weasyprint) (1.14.5)\n",
            "Requirement already satisfied: html5lib>=0.999999999 in /usr/local/lib/python3.7/dist-packages (from weasyprint) (1.0.1)\n",
            "Requirement already satisfied: CairoSVG>=2.4.0 in /usr/local/lib/python3.7/dist-packages (from weasyprint) (2.5.2)\n",
            "Requirement already satisfied: Pyphen>=0.9.1 in /usr/local/lib/python3.7/dist-packages (from weasyprint) (0.10.0)\n",
            "Requirement already satisfied: cairocffi>=0.9.0 in /usr/local/lib/python3.7/dist-packages (from weasyprint) (1.2.0)\n",
            "Requirement already satisfied: Pillow>=4.0.0 in /usr/local/lib/python3.7/dist-packages (from weasyprint) (7.1.2)\n",
            "Requirement already satisfied: setuptools>=39.2.0 in /usr/local/lib/python3.7/dist-packages (from weasyprint) (56.1.0)\n",
            "Requirement already satisfied: cssselect2>=0.1 in /usr/local/lib/python3.7/dist-packages (from weasyprint) (0.4.1)\n",
            "Requirement already satisfied: tinycss2>=1.0.0 in /usr/local/lib/python3.7/dist-packages (from weasyprint) (1.1.0)\n",
            "Requirement already satisfied: pycparser in /usr/local/lib/python3.7/dist-packages (from cffi>=0.6->weasyprint) (2.20)\n",
            "Requirement already satisfied: webencodings in /usr/local/lib/python3.7/dist-packages (from html5lib>=0.999999999->weasyprint) (0.5.1)\n",
            "Requirement already satisfied: six>=1.9 in /usr/local/lib/python3.7/dist-packages (from html5lib>=0.999999999->weasyprint) (1.15.0)\n",
            "Requirement already satisfied: defusedxml in /usr/local/lib/python3.7/dist-packages (from CairoSVG>=2.4.0->weasyprint) (0.7.1)\n"
          ],
          "name": "stdout"
        }
      ]
    },
    {
      "cell_type": "code",
      "metadata": {
        "id": "77rVB-3ahwjh"
      },
      "source": [
        ""
      ],
      "execution_count": null,
      "outputs": []
    }
  ]
}